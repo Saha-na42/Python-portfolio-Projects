{
 "cells": [
  {
   "cell_type": "code",
   "execution_count": 74,
   "id": "7f2e6c9e",
   "metadata": {},
   "outputs": [
    {
     "name": "stdout",
     "output_type": "stream",
     "text": [
      "--2023-03-29 11:47:57--  https://d28rh4a8wq0iu5.cloudfront.net/ads1/data/lambda_virus.fa\n",
      "Resolving d28rh4a8wq0iu5.cloudfront.net (d28rh4a8wq0iu5.cloudfront.net)... 18.161.245.40, 18.161.245.142, 18.161.245.3, ...\n",
      "Connecting to d28rh4a8wq0iu5.cloudfront.net (d28rh4a8wq0iu5.cloudfront.net)|18.161.245.40|:443... connected.\n",
      "HTTP request sent, awaiting response... 200 OK\n",
      "Length: 49270 (48K) [application/octet-stream]\n",
      "Saving to: 'lambda_virus.fa.2'\n",
      "\n",
      "lambda_virus.fa.2   100%[===================>]  48.12K  --.-KB/s    in 0.02s   \n",
      "\n",
      "2023-03-29 11:48:00 (2.38 MB/s) - 'lambda_virus.fa.2' saved [49270/49270]\n",
      "\n"
     ]
    }
   ],
   "source": [
    "#getting genome file\n",
    "!wget https://d28rh4a8wq0iu5.cloudfront.net/ads1/data/lambda_virus.fa"
   ]
  },
  {
   "cell_type": "code",
   "execution_count": 75,
   "id": "11fe2951",
   "metadata": {},
   "outputs": [],
   "source": [
    "#reading fasta file\n",
    "def readGenome(filename):\n",
    "    genome = ''\n",
    "    with open(\"lambda_virus.fa.2\") as f:\n",
    "        for line in f:\n",
    "            if not line[0] == '>':\n",
    "                genome  += line.rstrip()\n",
    "    return genome"
   ]
  },
  {
   "cell_type": "code",
   "execution_count": 80,
   "id": "6fd01e1a",
   "metadata": {},
   "outputs": [
    {
     "data": {
      "text/plain": [
       "'GGGCGGCGACCTCGCGGGTT'"
      ]
     },
     "execution_count": 80,
     "metadata": {},
     "output_type": "execute_result"
    }
   ],
   "source": [
    "genome = readGenome(\"lambda_virus.fa.2\")\n",
    "genome[:20]"
   ]
  },
  {
   "cell_type": "code",
   "execution_count": 2,
   "id": "a65938b6",
   "metadata": {},
   "outputs": [],
   "source": [
    "#naive matching \n",
    "def algo(p, t):\n",
    "    occurrences = []\n",
    "    for i in range(len(t) - len(p) + 1):\n",
    "        match = True\n",
    "        for j in range(len(p)):\n",
    "            if t[i+j] != p[j]:\n",
    "                match = False\n",
    "                break\n",
    "        if match:\n",
    "            occurrences.append(i)\n",
    "    return occurrences"
   ]
  },
  {
   "cell_type": "code",
   "execution_count": 4,
   "id": "b6dbfdcc",
   "metadata": {},
   "outputs": [
    {
     "ename": "NameError",
     "evalue": "name 'genome' is not defined",
     "output_type": "error",
     "traceback": [
      "\u001b[0;31m---------------------------------------------------------------------------\u001b[0m",
      "\u001b[0;31mNameError\u001b[0m                                 Traceback (most recent call last)",
      "\u001b[0;32m/var/folders/b7/pry6_kh50q34mm_nw5z1tpph0000gn/T/ipykernel_2968/827246399.py\u001b[0m in \u001b[0;36m<module>\u001b[0;34m\u001b[0m\n\u001b[1;32m      2\u001b[0m \u001b[0;34m\u001b[0m\u001b[0m\n\u001b[1;32m      3\u001b[0m \u001b[0mcount\u001b[0m \u001b[0;34m=\u001b[0m \u001b[0;36m0\u001b[0m\u001b[0;34m\u001b[0m\u001b[0;34m\u001b[0m\u001b[0m\n\u001b[0;32m----> 4\u001b[0;31m \u001b[0mcount\u001b[0m \u001b[0;34m+=\u001b[0m \u001b[0mlen\u001b[0m\u001b[0;34m(\u001b[0m\u001b[0malgo\u001b[0m\u001b[0;34m(\u001b[0m\u001b[0;34m'TTAA'\u001b[0m\u001b[0;34m,\u001b[0m \u001b[0mgenome\u001b[0m\u001b[0;34m)\u001b[0m\u001b[0;34m)\u001b[0m\u001b[0;34m\u001b[0m\u001b[0;34m\u001b[0m\u001b[0m\n\u001b[0m\u001b[1;32m      5\u001b[0m \u001b[0;31m#count += len(algo(reverseComplement('TTAA'), genome))\u001b[0m\u001b[0;34m\u001b[0m\u001b[0;34m\u001b[0m\u001b[0m\n\u001b[1;32m      6\u001b[0m \u001b[0mprint\u001b[0m\u001b[0;34m(\u001b[0m\u001b[0mcount\u001b[0m\u001b[0;34m)\u001b[0m\u001b[0;34m\u001b[0m\u001b[0;34m\u001b[0m\u001b[0m\n",
      "\u001b[0;31mNameError\u001b[0m: name 'genome' is not defined"
     ]
    }
   ],
   "source": [
    "#counting the occurences of a seq & its reverse complement\n",
    "\n",
    "count = 0\n",
    "count += len(algo('TTAA', genome))\n",
    "#count += len(algo(reverseComplement('TTAA'), genome))\n",
    "print(count)"
   ]
  },
  {
   "cell_type": "code",
   "execution_count": 106,
   "id": "60543a7d",
   "metadata": {},
   "outputs": [
    {
     "name": "stdout",
     "output_type": "stream",
     "text": [
      "offset1: 45382    offset2: 26028\n",
      "26028\n"
     ]
    }
   ],
   "source": [
    "#calculating the offset\n",
    "\n",
    "st = 'ACTAAGT'\n",
    "offset1 = genome.rfind(st)\n",
    "offset2 = genome.rfind(reverseComplement(st))\n",
    "print('offset1: %d    offset2: %d' % (offset1, offset2))\n",
    "print(min(offset1, offset2))"
   ]
  },
  {
   "cell_type": "code",
   "execution_count": 108,
   "id": "d9b5b58c",
   "metadata": {},
   "outputs": [
    {
     "name": "stdout",
     "output_type": "stream",
     "text": [
      "offset1: 44806    offset2: 45369\n",
      "44806\n"
     ]
    }
   ],
   "source": [
    "at=\"AGTCGA\"\n",
    "offset1 = genome.rfind(at)\n",
    "offset2 = genome.rfind(reverseComplement(at))\n",
    "print('offset1: %d    offset2: %d' % (offset1, offset2))\n",
    "print(min(offset1, offset2))"
   ]
  },
  {
   "cell_type": "code",
   "execution_count": 110,
   "id": "385fbffb",
   "metadata": {},
   "outputs": [],
   "source": [
    "#accounting for mismatches\n",
    "\n",
    "def algo_new(p, t):\n",
    "    occurrences = []\n",
    "    for i in range(len(t) - len(p) + 1):\n",
    "        mismatch = 0\n",
    "        for j in range(len(p)):\n",
    "            if t[i+j] != p[j]:\n",
    "                mismatch += 1\n",
    "                if mismatch > 2:\n",
    "                    break\n",
    "        if mismatch <= 2:\n",
    "            occurrences.append(i)\n",
    "    return occurrences"
   ]
  },
  {
   "cell_type": "code",
   "execution_count": 112,
   "id": "1df21f81",
   "metadata": {},
   "outputs": [
    {
     "name": "stdout",
     "output_type": "stream",
     "text": [
      "419\n"
     ]
    }
   ],
   "source": [
    "\n",
    "count = 0\n",
    "count += len(algo_new('TTCAAGCC', genome))\n",
    "count += len(algo_new(reverseComplement('TTCAAGCC'), genome))\n",
    "print(count)\n"
   ]
  },
  {
   "cell_type": "code",
   "execution_count": 113,
   "id": "7c136702",
   "metadata": {},
   "outputs": [
    {
     "name": "stdout",
     "output_type": "stream",
     "text": [
      "offset1: 26046    offset2: -1\n",
      "-1\n"
     ]
    }
   ],
   "source": [
    "at2=\"TTCAAGCC\"\n",
    "offset1 = genome.rfind(at2)\n",
    "offset2 = genome.rfind(reverseComplement(at2))\n",
    "print('offset1: %d    offset2: %d' % (offset1, offset2))\n",
    "print(min(offset1, offset2))"
   ]
  }
 ],
 "metadata": {
  "kernelspec": {
   "display_name": "Python 3 (ipykernel)",
   "language": "python",
   "name": "python3"
  },
  "language_info": {
   "codemirror_mode": {
    "name": "ipython",
    "version": 3
   },
   "file_extension": ".py",
   "mimetype": "text/x-python",
   "name": "python",
   "nbconvert_exporter": "python",
   "pygments_lexer": "ipython3",
   "version": "3.9.13"
  }
 },
 "nbformat": 4,
 "nbformat_minor": 5
}
