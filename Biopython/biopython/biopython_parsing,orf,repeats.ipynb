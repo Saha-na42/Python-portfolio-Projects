{
 "cells": [
  {
   "cell_type": "code",
   "execution_count": 4,
   "id": "84cdce80",
   "metadata": {},
   "outputs": [
    {
     "name": "stdout",
     "output_type": "stream",
     "text": [
      "Collecting Bio\n",
      "  Downloading bio-1.5.8-py3-none-any.whl (276 kB)\n",
      "\u001b[2K     \u001b[90m━━━━━━━━━━━━━━━━━━━━━━━━━━━━━━━━━━━━━━━\u001b[0m \u001b[32m276.3/276.3 kB\u001b[0m \u001b[31m1.7 MB/s\u001b[0m eta \u001b[36m0:00:00\u001b[0ma \u001b[36m0:00:01\u001b[0m\n",
      "\u001b[?25hCollecting mygene\n",
      "  Downloading mygene-3.2.2-py2.py3-none-any.whl (5.4 kB)\n",
      "Collecting gprofiler-official\n",
      "  Downloading gprofiler_official-1.0.0-py3-none-any.whl (9.3 kB)\n",
      "Requirement already satisfied: pandas in ./opt/anaconda3/lib/python3.9/site-packages (from Bio) (1.4.4)\n",
      "Collecting pooch\n",
      "  Downloading pooch-1.7.0-py3-none-any.whl (60 kB)\n",
      "\u001b[2K     \u001b[90m━━━━━━━━━━━━━━━━━━━━━━━━━━━━━━━━━━━━━━━━\u001b[0m \u001b[32m60.9/60.9 kB\u001b[0m \u001b[31m4.9 MB/s\u001b[0m eta \u001b[36m0:00:00\u001b[0m\n",
      "\u001b[?25hRequirement already satisfied: requests in ./opt/anaconda3/lib/python3.9/site-packages (from Bio) (2.28.1)\n",
      "Collecting biopython>=1.80\n",
      "  Downloading biopython-1.81-cp39-cp39-macosx_10_9_x86_64.whl (2.7 MB)\n",
      "\u001b[2K     \u001b[90m━━━━━━━━━━━━━━━━━━━━━━━━━━━━━━━━━━━━━━━━\u001b[0m \u001b[32m2.7/2.7 MB\u001b[0m \u001b[31m5.7 MB/s\u001b[0m eta \u001b[36m0:00:00\u001b[0m00:01\u001b[0m00:01\u001b[0m\n",
      "\u001b[?25hRequirement already satisfied: tqdm in ./opt/anaconda3/lib/python3.9/site-packages (from Bio) (4.64.1)\n",
      "Requirement already satisfied: numpy in ./opt/anaconda3/lib/python3.9/site-packages (from biopython>=1.80->Bio) (1.21.5)\n",
      "Collecting biothings-client>=0.2.6\n",
      "  Downloading biothings_client-0.3.0-py2.py3-none-any.whl (29 kB)\n",
      "Requirement already satisfied: python-dateutil>=2.8.1 in ./opt/anaconda3/lib/python3.9/site-packages (from pandas->Bio) (2.8.2)\n",
      "Requirement already satisfied: pytz>=2020.1 in ./opt/anaconda3/lib/python3.9/site-packages (from pandas->Bio) (2022.1)\n",
      "Requirement already satisfied: platformdirs>=2.5.0 in ./opt/anaconda3/lib/python3.9/site-packages (from pooch->Bio) (2.5.2)\n",
      "Requirement already satisfied: packaging>=20.0 in ./opt/anaconda3/lib/python3.9/site-packages (from pooch->Bio) (21.3)\n",
      "Requirement already satisfied: idna<4,>=2.5 in ./opt/anaconda3/lib/python3.9/site-packages (from requests->Bio) (3.3)\n",
      "Requirement already satisfied: urllib3<1.27,>=1.21.1 in ./opt/anaconda3/lib/python3.9/site-packages (from requests->Bio) (1.26.11)\n",
      "Requirement already satisfied: certifi>=2017.4.17 in ./opt/anaconda3/lib/python3.9/site-packages (from requests->Bio) (2022.9.24)\n",
      "Requirement already satisfied: charset-normalizer<3,>=2 in ./opt/anaconda3/lib/python3.9/site-packages (from requests->Bio) (2.0.4)\n",
      "Requirement already satisfied: pyparsing!=3.0.5,>=2.0.2 in ./opt/anaconda3/lib/python3.9/site-packages (from packaging>=20.0->pooch->Bio) (3.0.9)\n",
      "Requirement already satisfied: six>=1.5 in ./opt/anaconda3/lib/python3.9/site-packages (from python-dateutil>=2.8.1->pandas->Bio) (1.16.0)\n",
      "Installing collected packages: biopython, pooch, gprofiler-official, biothings-client, mygene, Bio\n",
      "Successfully installed Bio-1.5.8 biopython-1.81 biothings-client-0.3.0 gprofiler-official-1.0.0 mygene-3.2.2 pooch-1.7.0\n",
      "Note: you may need to restart the kernel to use updated packages.\n"
     ]
    }
   ],
   "source": [
    "pip install Bio"
   ]
  },
  {
   "cell_type": "code",
   "execution_count": 71,
   "id": "c894f452",
   "metadata": {
    "scrolled": true
   },
   "outputs": [
    {
     "name": "stdout",
     "output_type": "stream",
     "text": [
      "2\n",
      "4\n",
      "6\n",
      "8\n",
      "10\n",
      "12\n",
      "14\n",
      "16\n",
      "18\n",
      "20\n",
      "22\n",
      "24\n",
      "26\n",
      "28\n",
      "30\n",
      "32\n",
      "34\n",
      "36\n",
      "38\n",
      "40\n",
      "42\n",
      "44\n",
      "46\n",
      "48\n",
      "50\n"
     ]
    }
   ],
   "source": [
    "#name of a fasta file as input & return sequences as a list\n",
    "from Bio import SeqIO\n",
    "sequences = []\n",
    "for seq_record in SeqIO.parse(\"/Users/sahanabaskar/Downloads/dna.example.fasta\",\"fasta\"):\n",
    "    sequences.append(str(seq_record.seq))\n",
    "    sequences.append(str(seq_record.id))\n",
    "    print(sequences)"
   ]
  },
  {
   "cell_type": "code",
   "execution_count": 94,
   "id": "0c578a77",
   "metadata": {},
   "outputs": [
    {
     "name": "stdout",
     "output_type": "stream",
     "text": [
      "Total number of sequences: 18\n"
     ]
    }
   ],
   "source": [
    "#total no of seq\n",
    "\n",
    "sequences = []\n",
    "for seq_record in SeqIO.parse(\"/Users/sahanabaskar/Downloads/dna2.fasta\", \"fasta\"):\n",
    "    sequences.append((str(seq_record.id), str(seq_record.seq)))\n",
    "\n",
    "print(f\"Total number of sequences: {len(sequences)}\")\n"
   ]
  },
  {
   "cell_type": "code",
   "execution_count": 93,
   "id": "57c90db5",
   "metadata": {},
   "outputs": [
    {
     "name": "stdout",
     "output_type": "stream",
     "text": [
      "4635\n",
      "1151\n",
      "4894\n",
      "3511\n",
      "4076\n",
      "2867\n",
      "442\n",
      "890\n",
      "967\n",
      "4338\n",
      "1352\n",
      "4564\n",
      "4804\n",
      "964\n",
      "2095\n",
      "1432\n",
      "115\n",
      "2646\n"
     ]
    }
   ],
   "source": [
    "#len of seq\n",
    "sequences = []\n",
    "for seq_record in SeqIO.parse(\"/Users/sahanabaskar/Downloads/dna2.fasta\", \"fasta\"):\n",
    "    sequences.append((str(seq_record.id),str(seq_record.seq)))\n",
    "    print(len(seq_record.seq))"
   ]
  },
  {
   "cell_type": "code",
   "execution_count": 95,
   "id": "5879f58f",
   "metadata": {},
   "outputs": [
    {
     "name": "stdout",
     "output_type": "stream",
     "text": [
      "Lengths of sequences:\n",
      "gi|142022655|gb|EQ086233.1|255\t4894\n",
      "gi|142022655|gb|EQ086233.1|16\t4804\n",
      "gi|142022655|gb|EQ086233.1|91\t4635\n",
      "gi|142022655|gb|EQ086233.1|454\t4564\n",
      "gi|142022655|gb|EQ086233.1|293\t4338\n",
      "gi|142022655|gb|EQ086233.1|396\t4076\n",
      "gi|142022655|gb|EQ086233.1|45\t3511\n",
      "gi|142022655|gb|EQ086233.1|250\t2867\n",
      "gi|142022655|gb|EQ086233.1|527\t2646\n",
      "gi|142022655|gb|EQ086233.1|4\t2095\n",
      "gi|142022655|gb|EQ086233.1|277\t1432\n",
      "gi|142022655|gb|EQ086233.1|75\t1352\n",
      "gi|142022655|gb|EQ086233.1|304\t1151\n",
      "gi|142022655|gb|EQ086233.1|594\t967\n",
      "gi|142022655|gb|EQ086233.1|584\t964\n",
      "gi|142022655|gb|EQ086233.1|88\t890\n",
      "gi|142022655|gb|EQ086233.1|322\t442\n",
      "gi|142022655|gb|EQ086233.1|346\t115\n",
      "\n",
      "Longest sequence(s) (4894 bp):\n",
      "gi|142022655|gb|EQ086233.1|255\n",
      "\n",
      "Shortest sequence(s) (115 bp):\n",
      "gi|142022655|gb|EQ086233.1|346\n"
     ]
    }
   ],
   "source": [
    "\n",
    "sequences = []\n",
    "for seq_record in SeqIO.parse(\"/Users/sahanabaskar/Downloads/dna2.fasta\", \"fasta\"):\n",
    "    seq_id = seq_record.id\n",
    "    seq_len = len(seq_record.seq)\n",
    "    sequences.append((seq_id, seq_len))\n",
    "\n",
    "# Sort the sequences by length in descending order\n",
    "sequences.sort(key=lambda x: x[1], reverse=True)\n",
    "\n",
    "# Print the lengths of all sequences\n",
    "print(\"Lengths of sequences:\")\n",
    "for seq_id, seq_len in sequences:\n",
    "    print(f\"{seq_id}\\t{seq_len}\")\n",
    "\n",
    "# Print the longest sequence(s)\n",
    "longest_seq_len = sequences[0][1]\n",
    "longest_seqs = [(seq_id, seq_len) for seq_id, seq_len in sequences if seq_len == longest_seq_len]\n",
    "print(f\"\\nLongest sequence(s) ({longest_seq_len} bp):\")\n",
    "for seq_id, seq_len in longest_seqs:\n",
    "    print(seq_id)\n",
    "\n",
    "# Print the shortest sequence(s)\n",
    "shortest_seq_len = sequences[-1][1]\n",
    "shortest_seqs = [(seq_id, seq_len) for seq_id, seq_len in sequences if seq_len == shortest_seq_len]\n",
    "print(f\"\\nShortest sequence(s) ({shortest_seq_len} bp):\")\n",
    "for seq_id, seq_len in shortest_seqs:\n",
    "    print(seq_id)\n",
    "    \n",
    "   "
   ]
  },
  {
   "cell_type": "code",
   "execution_count": 107,
   "id": "994b7a65",
   "metadata": {},
   "outputs": [
    {
     "name": "stdout",
     "output_type": "stream",
     "text": [
      "Length of longest ORF: 813 bp\n",
      "Identifiers of sequences containing longest ORF:\n",
      "gi|142022655|gb|EQ086233.1|396 (start position: 2373)\n",
      "\n",
      "Longest ORF for each sequence:\n",
      "gi|142022655|gb|EQ086233.1|91: 510 bp\n",
      "gi|142022655|gb|EQ086233.1|304: 105 bp\n",
      "gi|142022655|gb|EQ086233.1|255: 627 bp\n",
      "gi|142022655|gb|EQ086233.1|45: 21 bp\n",
      "gi|142022655|gb|EQ086233.1|396: 813 bp\n",
      "gi|142022655|gb|EQ086233.1|250: 438 bp\n",
      "gi|142022655|gb|EQ086233.1|322: 16 bp\n",
      "gi|142022655|gb|EQ086233.1|88: 111 bp\n",
      "gi|142022655|gb|EQ086233.1|594: 46 bp\n",
      "gi|142022655|gb|EQ086233.1|293: 117 bp\n",
      "gi|142022655|gb|EQ086233.1|75: 105 bp\n",
      "gi|142022655|gb|EQ086233.1|454: 114 bp\n",
      "gi|142022655|gb|EQ086233.1|16: 222 bp\n",
      "gi|142022655|gb|EQ086233.1|584: 90 bp\n",
      "gi|142022655|gb|EQ086233.1|4: 249 bp\n",
      "gi|142022655|gb|EQ086233.1|277: 99 bp\n",
      "gi|142022655|gb|EQ086233.1|346: 16 bp\n",
      "gi|142022655|gb|EQ086233.1|527: 195 bp\n"
     ]
    }
   ],
   "source": [
    "#longest ORF\n",
    "\n",
    "def find_orfs(sequence, frame):\n",
    "    \"\"\"Finds all ORFs in the given reading frame of a DNA sequence.\"\"\"\n",
    "    start_codon = \"ATG\"\n",
    "    stop_codons = [\"TAA\", \"TAG\", \"TGA\"]\n",
    "    orfs = []\n",
    "    in_orf = False\n",
    "    orf_start = 1\n",
    "    \n",
    "    for i in range(frame-1, len(sequence)-2, 3):\n",
    "        codon = sequence[i:i+3]\n",
    "        if codon == start_codon:\n",
    "            # Start a new ORF\n",
    "            in_orf = True\n",
    "            orf_start = i\n",
    "        elif codon in stop_codons:\n",
    "            # End the current ORF\n",
    "            if in_orf:\n",
    "                orfs.append((orf_start, i+2))\n",
    "                in_orf = False\n",
    "                \n",
    "    # Handle the case where the sequence ends in an ORF\n",
    "    if in_orf:\n",
    "        orfs.append((orf_start, len(sequence)-1))\n",
    "        \n",
    "    return orfs\n",
    "\n",
    "# Read in the multi-FASTA file\n",
    "records = list(SeqIO.parse(\"/Users/sahanabaskar/Downloads/dna2.fasta\", \"fasta\"))\n",
    "\n",
    "# Find all ORFs in each sequence in the forward reading frame\n",
    "orf_data = []\n",
    "for record in records:\n",
    "    seq_id = record.id\n",
    "    sequence = str(record.seq)\n",
    "    orfs = find_orfs(sequence, frame=1)\n",
    "    for orf_start, orf_stop in orfs:\n",
    "        orf_len = orf_stop - orf_start + 1\n",
    "        orf_data.append((seq_id, orf_start, orf_len))\n",
    "\n",
    "# Determine the length of the longest ORF in the file and its location\n",
    "longest_orf_len = max([data[2] for data in orf_data])\n",
    "longest_orfs = [data for data in orf_data if data[2] == longest_orf_len]\n",
    "longest_orf_locs = [(data[0], data[1]) for data in longest_orfs]\n",
    "print(f\"Length of longest ORF: {longest_orf_len} bp\")\n",
    "print(\"Identifiers of sequences containing longest ORF:\")\n",
    "for seq_id, orf_start in longest_orf_locs:\n",
    "    print(f\"{seq_id} (start position: {orf_start})\")\n",
    "\n",
    "# Determine the longest ORF for each sequence\n",
    "max_orfs = []\n",
    "for record in records:\n",
    "    seq_id = record.id\n",
    "    sequence = str(record.seq)\n",
    "    orfs = find_orfs(sequence, frame=1)\n",
    "    if orfs:\n",
    "        max_orf_len = max([orf_stop-orf_start+1 for orf_start, orf_stop in orfs])\n",
    "        max_orfs.append((seq_id, max_orf_len))\n",
    "        \n",
    "print(\"\\nLongest ORF for each sequence:\")\n",
    "for seq_id, max_orf_len in max_orfs:\n",
    "    print(f\"{seq_id}: {max_orf_len} bp\")\n"
   ]
  },
  {
   "cell_type": "code",
   "execution_count": 105,
   "id": "b15f0eaf",
   "metadata": {},
   "outputs": [
    {
     "name": "stdout",
     "output_type": "stream",
     "text": [
      "Most frequent repeat of length 7: CGCGCCG (63 occurrences)\n"
     ]
    }
   ],
   "source": [
    "#frequent repeats\n",
    "\n",
    "def find_repeats(fasta_file, n):\n",
    "    sequences = {}\n",
    "    for seq_record in SeqIO.parse(fasta_file, \"fasta\"):\n",
    "        seq = str(seq_record.seq)\n",
    "        for i in range(len(seq) - n + 1):\n",
    "            repeat = seq[i:i+n]\n",
    "            if repeat in sequences:\n",
    "                sequences[repeat] += 1\n",
    "            else:\n",
    "                sequences[repeat] = 1\n",
    "    max_count = 0\n",
    "    max_repeat = ''\n",
    "    for repeat in sequences:\n",
    "        count = sequences[repeat]\n",
    "        if count > max_count:\n",
    "            max_count = count\n",
    "            max_repeat = repeat\n",
    "    print(f\"Most frequent repeat of length {n}: {max_repeat} ({max_count} occurrences)\")\n",
    "    return sequences\n",
    "\n",
    "fasta_file = \"/Users/sahanabaskar/Downloads/dna2.fasta\"\n",
    "n = 7\n",
    "repeats = find_repeats(fasta_file, n)\n"
   ]
  },
  {
   "cell_type": "code",
   "execution_count": null,
   "id": "a7bc1c62",
   "metadata": {},
   "outputs": [],
   "source": []
  },
  {
   "cell_type": "code",
   "execution_count": null,
   "id": "9d9ea0d1",
   "metadata": {},
   "outputs": [],
   "source": []
  }
 ],
 "metadata": {
  "kernelspec": {
   "display_name": "Python 3 (ipykernel)",
   "language": "python",
   "name": "python3"
  },
  "language_info": {
   "codemirror_mode": {
    "name": "ipython",
    "version": 3
   },
   "file_extension": ".py",
   "mimetype": "text/x-python",
   "name": "python",
   "nbconvert_exporter": "python",
   "pygments_lexer": "ipython3",
   "version": "3.9.13"
  }
 },
 "nbformat": 4,
 "nbformat_minor": 5
}
